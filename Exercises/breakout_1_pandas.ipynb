{
 "cells": [
  {
   "cell_type": "markdown",
   "metadata": {},
   "source": [
    "ML Course, Bogotá, Colombia  (&copy; Josh Bloom; June 2019)"
   ]
  },
  {
   "cell_type": "markdown",
   "metadata": {},
   "source": [
    "Breakout session: Answer some questions about San Francisco Home sales\n",
    "----\n",
    "\n",
    "Use the ``SFhousing.csv`` dataset:\n",
    "\n",
    "----\n",
    "\n",
    "<u>Hints:</u>\n",
    "  - frequency for resampling 'M' : Monthly   \n",
    "  - for mean, max, min use `apply` after resampling."
   ]
  },
  {
   "cell_type": "markdown",
   "metadata": {},
   "source": [
    "I: Read this data into a pandas dataframe. Convert the dates into the index and the dollar amounts of homesale prices (\"Sale_Amount\") into float values."
   ]
  },
  {
   "cell_type": "code",
   "execution_count": 1,
   "metadata": {},
   "outputs": [],
   "source": [
    "import pandas as pd\n",
    "import numpy as np"
   ]
  },
  {
   "cell_type": "markdown",
   "metadata": {},
   "source": [
    "Hint: your `dtypes` of the dataframe should be\n",
    "```\n",
    "APN              object\n",
    "ADDRESS          object\n",
    "Sale_Amount     float64\n",
    "Num_Bedrooms      int64\n",
    "BLKLOT           object\n",
    "dtype: object\n",
    "```"
   ]
  },
  {
   "cell_type": "markdown",
   "metadata": {},
   "source": [
    "II. What were the total number of sales per month?"
   ]
  },
  {
   "cell_type": "code",
   "execution_count": 3,
   "metadata": {},
   "outputs": [
    {
     "name": "stdout",
     "output_type": "stream",
     "text": [
      "SFHousing.csv\r\n"
     ]
    }
   ],
   "source": [
    "!ls data"
   ]
  },
  {
   "cell_type": "code",
   "execution_count": 67,
   "metadata": {},
   "outputs": [
    {
     "data": {
      "text/html": [
       "<div>\n",
       "<style scoped>\n",
       "    .dataframe tbody tr th:only-of-type {\n",
       "        vertical-align: middle;\n",
       "    }\n",
       "\n",
       "    .dataframe tbody tr th {\n",
       "        vertical-align: top;\n",
       "    }\n",
       "\n",
       "    .dataframe thead th {\n",
       "        text-align: right;\n",
       "    }\n",
       "</style>\n",
       "<table border=\"1\" class=\"dataframe\">\n",
       "  <thead>\n",
       "    <tr style=\"text-align: right;\">\n",
       "      <th></th>\n",
       "      <th>APN</th>\n",
       "      <th>ADDRESS</th>\n",
       "      <th>Sale_Amount</th>\n",
       "      <th>Num_Bedrooms</th>\n",
       "      <th>BLKLOT</th>\n",
       "    </tr>\n",
       "    <tr>\n",
       "      <th>Date_Sale</th>\n",
       "      <th></th>\n",
       "      <th></th>\n",
       "      <th></th>\n",
       "      <th></th>\n",
       "      <th></th>\n",
       "    </tr>\n",
       "  </thead>\n",
       "  <tbody>\n",
       "    <tr>\n",
       "      <th>2012-01-03</th>\n",
       "      <td>3570 101</td>\n",
       "      <td>566 SOUTH VAN NESS AVE #3</td>\n",
       "      <td>$425,500</td>\n",
       "      <td>2</td>\n",
       "      <td>3570101</td>\n",
       "    </tr>\n",
       "    <tr>\n",
       "      <th>2012-01-03</th>\n",
       "      <td>3719 181</td>\n",
       "      <td>301 MISSION ST #22E</td>\n",
       "      <td>$1,160,000</td>\n",
       "      <td>2</td>\n",
       "      <td>3719181</td>\n",
       "    </tr>\n",
       "    <tr>\n",
       "      <th>2012-01-03</th>\n",
       "      <td>8704 277</td>\n",
       "      <td>300 BERRY ST # 1612</td>\n",
       "      <td>$774,025</td>\n",
       "      <td>2</td>\n",
       "      <td>8704277</td>\n",
       "    </tr>\n",
       "    <tr>\n",
       "      <th>2012-01-04</th>\n",
       "      <td>1836 032</td>\n",
       "      <td>1463 17TH AVE</td>\n",
       "      <td>$660,000</td>\n",
       "      <td>2</td>\n",
       "      <td>1836032</td>\n",
       "    </tr>\n",
       "    <tr>\n",
       "      <th>2012-01-04</th>\n",
       "      <td>3594 079</td>\n",
       "      <td>3380 20TH ST 302</td>\n",
       "      <td>$450,000</td>\n",
       "      <td>2</td>\n",
       "      <td>3594079</td>\n",
       "    </tr>\n",
       "  </tbody>\n",
       "</table>\n",
       "</div>"
      ],
      "text/plain": [
       "                 APN                    ADDRESS  Sale_Amount  Num_Bedrooms  \\\n",
       "Date_Sale                                                                    \n",
       "2012-01-03  3570 101  566 SOUTH VAN NESS AVE #3    $425,500              2   \n",
       "2012-01-03  3719 181        301 MISSION ST #22E  $1,160,000              2   \n",
       "2012-01-03  8704 277        300 BERRY ST # 1612    $774,025              2   \n",
       "2012-01-04  1836 032              1463 17TH AVE    $660,000              2   \n",
       "2012-01-04  3594 079           3380 20TH ST 302    $450,000              2   \n",
       "\n",
       "             BLKLOT  \n",
       "Date_Sale            \n",
       "2012-01-03  3570101  \n",
       "2012-01-03  3719181  \n",
       "2012-01-03  8704277  \n",
       "2012-01-04  1836032  \n",
       "2012-01-04  3594079  "
      ]
     },
     "execution_count": 67,
     "metadata": {},
     "output_type": "execute_result"
    }
   ],
   "source": [
    "#dataf = pd.read_csv(\"data/SFHousing.csv\", dtype={\"APN\": object, \"ADDRESS\": object, \"Sale_Amount\": np.float64, \n",
    "#                                                \"Num_Bedrooms\": np.int64, \"BLKLOT\": object})\n",
    "dataf = pd.read_csv(\"data/SFHousing.csv\", parse_dates=[2], index_col=\"Date_Sale\")  # I was expecting this to parse dates, it didn't.\n",
    "dataf.head()"
   ]
  },
  {
   "cell_type": "code",
   "execution_count": 68,
   "metadata": {},
   "outputs": [],
   "source": [
    "# Converting string with dollar sign to float\n",
    "dataf[\"Sale_Amount\"] = dataf[\"Sale_Amount\"].str.replace(\"$\",\"\")\n",
    "# Remove commas and change type to float64\n",
    "dataf[\"Sale_Amount\"] = dataf[\"Sale_Amount\"].str.replace(\",\",\"\").astype(np.float64)"
   ]
  },
  {
   "cell_type": "code",
   "execution_count": 71,
   "metadata": {},
   "outputs": [
    {
     "data": {
      "text/plain": [
       "APN              object\n",
       "ADDRESS          object\n",
       "Sale_Amount     float64\n",
       "Num_Bedrooms      int64\n",
       "BLKLOT           object\n",
       "dtype: object"
      ]
     },
     "execution_count": 71,
     "metadata": {},
     "output_type": "execute_result"
    }
   ],
   "source": [
    "dataf.dtypes"
   ]
  },
  {
   "cell_type": "code",
   "execution_count": 72,
   "metadata": {},
   "outputs": [
    {
     "data": {
      "text/html": [
       "<div>\n",
       "<style scoped>\n",
       "    .dataframe tbody tr th:only-of-type {\n",
       "        vertical-align: middle;\n",
       "    }\n",
       "\n",
       "    .dataframe tbody tr th {\n",
       "        vertical-align: top;\n",
       "    }\n",
       "\n",
       "    .dataframe thead th {\n",
       "        text-align: right;\n",
       "    }\n",
       "</style>\n",
       "<table border=\"1\" class=\"dataframe\">\n",
       "  <thead>\n",
       "    <tr style=\"text-align: right;\">\n",
       "      <th></th>\n",
       "      <th>APN</th>\n",
       "      <th>ADDRESS</th>\n",
       "      <th>Sale_Amount</th>\n",
       "      <th>Num_Bedrooms</th>\n",
       "      <th>BLKLOT</th>\n",
       "    </tr>\n",
       "    <tr>\n",
       "      <th>Date_Sale</th>\n",
       "      <th></th>\n",
       "      <th></th>\n",
       "      <th></th>\n",
       "      <th></th>\n",
       "      <th></th>\n",
       "    </tr>\n",
       "  </thead>\n",
       "  <tbody>\n",
       "    <tr>\n",
       "      <th>2012-01-03</th>\n",
       "      <td>3570 101</td>\n",
       "      <td>566 SOUTH VAN NESS AVE #3</td>\n",
       "      <td>425500.0</td>\n",
       "      <td>2</td>\n",
       "      <td>3570101</td>\n",
       "    </tr>\n",
       "    <tr>\n",
       "      <th>2012-01-03</th>\n",
       "      <td>3719 181</td>\n",
       "      <td>301 MISSION ST #22E</td>\n",
       "      <td>1160000.0</td>\n",
       "      <td>2</td>\n",
       "      <td>3719181</td>\n",
       "    </tr>\n",
       "    <tr>\n",
       "      <th>2012-01-03</th>\n",
       "      <td>8704 277</td>\n",
       "      <td>300 BERRY ST # 1612</td>\n",
       "      <td>774025.0</td>\n",
       "      <td>2</td>\n",
       "      <td>8704277</td>\n",
       "    </tr>\n",
       "    <tr>\n",
       "      <th>2012-01-04</th>\n",
       "      <td>1836 032</td>\n",
       "      <td>1463 17TH AVE</td>\n",
       "      <td>660000.0</td>\n",
       "      <td>2</td>\n",
       "      <td>1836032</td>\n",
       "    </tr>\n",
       "    <tr>\n",
       "      <th>2012-01-04</th>\n",
       "      <td>3594 079</td>\n",
       "      <td>3380 20TH ST 302</td>\n",
       "      <td>450000.0</td>\n",
       "      <td>2</td>\n",
       "      <td>3594079</td>\n",
       "    </tr>\n",
       "  </tbody>\n",
       "</table>\n",
       "</div>"
      ],
      "text/plain": [
       "                 APN                    ADDRESS  Sale_Amount  Num_Bedrooms  \\\n",
       "Date_Sale                                                                    \n",
       "2012-01-03  3570 101  566 SOUTH VAN NESS AVE #3     425500.0             2   \n",
       "2012-01-03  3719 181        301 MISSION ST #22E    1160000.0             2   \n",
       "2012-01-03  8704 277        300 BERRY ST # 1612     774025.0             2   \n",
       "2012-01-04  1836 032              1463 17TH AVE     660000.0             2   \n",
       "2012-01-04  3594 079           3380 20TH ST 302     450000.0             2   \n",
       "\n",
       "             BLKLOT  \n",
       "Date_Sale            \n",
       "2012-01-03  3570101  \n",
       "2012-01-03  3719181  \n",
       "2012-01-03  8704277  \n",
       "2012-01-04  1836032  \n",
       "2012-01-04  3594079  "
      ]
     },
     "execution_count": 72,
     "metadata": {},
     "output_type": "execute_result"
    }
   ],
   "source": [
    "#dataf.set_index(\"Date_Sale\", inplace=True)\n",
    "dataf.head()"
   ]
  },
  {
   "cell_type": "code",
   "execution_count": 74,
   "metadata": {},
   "outputs": [
    {
     "data": {
      "text/plain": [
       "Date_Sale\n",
       "2012-01-31     68\n",
       "2012-02-29     82\n",
       "2012-03-31    105\n",
       "2012-04-30    125\n",
       "2012-05-31    137\n",
       "2012-06-30    146\n",
       "2012-07-31    100\n",
       "2012-08-31    176\n",
       "2012-09-30    104\n",
       "2012-10-31     73\n",
       "2012-11-30     49\n",
       "2012-12-31      2\n",
       "Freq: M, Name: Sale_Amount, dtype: int64"
      ]
     },
     "execution_count": 74,
     "metadata": {},
     "output_type": "execute_result"
    }
   ],
   "source": [
    "# Resample by month \"M\" and count... wow!\n",
    "dataf[\"Sale_Amount\"].resample(\"M\").count()  "
   ]
  },
  {
   "cell_type": "markdown",
   "metadata": {},
   "source": [
    "III. What was the average, min and max housing price per month?"
   ]
  },
  {
   "cell_type": "code",
   "execution_count": 75,
   "metadata": {},
   "outputs": [
    {
     "data": {
      "text/plain": [
       "Date_Sale\n",
       "2012-01-31                [786415.25, 1500.0, 2004000.0]\n",
       "2012-02-29       [743212.0365853659, 92500.0, 2750000.0]\n",
       "2012-03-31       [852983.1428571428, 10000.0, 2515000.0]\n",
       "2012-04-30              [873141.256, 29000.0, 3800000.0]\n",
       "2012-05-31     [1041000.9854014599, 245000.0, 4750000.0]\n",
       "2012-06-30      [850681.0547945206, 208000.0, 1998000.0]\n",
       "2012-07-31             [1073750.65, 208000.0, 6000000.0]\n",
       "2012-08-31    [2013070.7215909092, 208000.0, 16600000.0]\n",
       "2012-09-30            [1084000.875, 119000.0, 5100000.0]\n",
       "2012-10-31      [963303.2602739726, 208000.0, 3500000.0]\n",
       "2012-11-30      [982842.9591836735, 430000.0, 2200000.0]\n",
       "2012-12-31             [1867500.0, 1800000.0, 1935000.0]\n",
       "Freq: M, Name: Sale_Amount, dtype: object"
      ]
     },
     "execution_count": 75,
     "metadata": {},
     "output_type": "execute_result"
    }
   ],
   "source": [
    "dataf[\"Sale_Amount\"].resample(\"M\").apply(lambda x: [x.mean(), x.min(), x.max()])"
   ]
  },
  {
   "cell_type": "markdown",
   "metadata": {},
   "source": [
    "IV. (bonus) What was the average housing price for all houses sold over $100,000?"
   ]
  },
  {
   "cell_type": "code",
   "execution_count": 79,
   "metadata": {},
   "outputs": [
    {
     "data": {
      "text/plain": [
       "1100238.4706896553"
      ]
     },
     "execution_count": 79,
     "metadata": {},
     "output_type": "execute_result"
    }
   ],
   "source": [
    "dataf[dataf[\"Sale_Amount\"] > 100000][\"Sale_Amount\"].mean()"
   ]
  }
 ],
 "metadata": {
  "kernelspec": {
   "display_name": "Python 3",
   "language": "python",
   "name": "python3"
  },
  "language_info": {
   "codemirror_mode": {
    "name": "ipython",
    "version": 3
   },
   "file_extension": ".py",
   "mimetype": "text/x-python",
   "name": "python",
   "nbconvert_exporter": "python",
   "pygments_lexer": "ipython3",
   "version": "3.6.7"
  }
 },
 "nbformat": 4,
 "nbformat_minor": 1
}
