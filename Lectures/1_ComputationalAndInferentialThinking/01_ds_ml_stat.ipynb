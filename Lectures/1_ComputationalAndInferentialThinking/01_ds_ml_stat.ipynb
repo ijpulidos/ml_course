{
 "cells": [
  {
   "cell_type": "markdown",
   "metadata": {},
   "source": [
    "ML Course, Bogotá, Colombia  (&copy; Josh Bloom; June 2019)"
   ]
  },
  {
   "cell_type": "code",
   "execution_count": 1,
   "metadata": {},
   "outputs": [
    {
     "data": {
      "text/html": [
       "<style>\n",
       "\n",
       ".rendered_html\n",
       "{\n",
       "  color: #2C5494;\n",
       "  font-family: Ubuntu;\n",
       "  font-size: 140%;\n",
       "  line-height: 1.1;\n",
       "  margin: 0.5em 0;\n",
       "  }\n",
       "\n",
       ".talk_title\n",
       "{\n",
       "  color: #498AF3;\n",
       "  font-size: 250%;\n",
       "  font-weight:bold;\n",
       "  line-height: 1.2; \n",
       "  margin: 10px 50px 10px;\n",
       "  }\n",
       "\n",
       ".subtitle\n",
       "{\n",
       "  color: #386BBC;\n",
       "  font-size: 180%;\n",
       "  font-weight:bold;\n",
       "  line-height: 1.2; \n",
       "  margin: 20px 50px 20px;\n",
       "  }\n",
       "\n",
       ".slide-header, p.slide-header\n",
       "{\n",
       "  color: #498AF3;\n",
       "  font-size: 200%;\n",
       "  font-weight:bold;\n",
       "  margin: 0px 20px 10px;\n",
       "  page-break-before: always;\n",
       "  text-align: center;\n",
       "  }\n",
       "\n",
       ".rendered_html h1\n",
       "{\n",
       "  color: #498AF3;\n",
       "  line-height: 1.2; \n",
       "  margin: 0.15em 0em 0.5em;\n",
       "  page-break-before: always;\n",
       "  text-align: center;\n",
       "  }\n",
       "\n",
       "\n",
       ".rendered_html h2\n",
       "{ \n",
       "  color: #386BBC;\n",
       "  line-height: 1.2;\n",
       "  margin: 1.1em 0em 0.5em;\n",
       "  }\n",
       "\n",
       ".rendered_html h3\n",
       "{ \n",
       "  font-size: 100%;\n",
       "  line-height: 1.2;\n",
       "  margin: 1.1em 0em 0.5em;\n",
       "  }\n",
       "\n",
       ".rendered_html li\n",
       "{\n",
       "  line-height: 1.8;\n",
       "  }\n",
       "\n",
       ".input_prompt, .CodeMirror-lines, .output_area\n",
       "{\n",
       "  font-family: Consolas;\n",
       "  font-size: 120%;\n",
       "  }\n",
       "\n",
       ".gap-above\n",
       "{\n",
       "  padding-top: 200px;\n",
       "  }\n",
       "\n",
       ".gap01\n",
       "{\n",
       "  padding-top: 10px;\n",
       "  }\n",
       "\n",
       ".gap05\n",
       "{\n",
       "  padding-top: 50px;\n",
       "  }\n",
       "\n",
       ".gap1\n",
       "{\n",
       "  padding-top: 100px;\n",
       "  }\n",
       "\n",
       ".gap2\n",
       "{\n",
       "  padding-top: 200px;\n",
       "  }\n",
       "\n",
       ".gap3\n",
       "{\n",
       "  padding-top: 300px;\n",
       "  }\n",
       "\n",
       ".emph\n",
       "{\n",
       "  color: #386BBC;\n",
       "  }\n",
       "\n",
       ".warn\n",
       "{\n",
       "  color: red;\n",
       "  }\n",
       "\n",
       ".center\n",
       "{\n",
       "  text-align: center;\n",
       "  }\n",
       "\n",
       ".nb_link\n",
       "{\n",
       "    padding-bottom: 0.5em;\n",
       "}\n",
       "\n",
       "</style>"
      ],
      "text/plain": [
       "<IPython.core.display.HTML object>"
      ]
     },
     "metadata": {},
     "output_type": "display_data"
    }
   ],
   "source": [
    "%run ../talktools.py"
   ]
  },
  {
   "cell_type": "markdown",
   "metadata": {},
   "source": [
    "# Inferential & Computational Thinking\n",
    "**Data Science, Machine Learning and Statistics**\n",
    "\n",
    "The core activities of data science are captured well in the book [Data Science Lifecycle (Data 100)](https://www.textbook.ds100.org/ch/01/lifecycle_intro.html#The-Data-Science-Lifecycle):\n",
    "\n",
    "1. Formulating a question or problem\n",
    " - What do we want to know or what problems are we trying to solve?\n",
    " - What are our hypotheses?\n",
    " - What are our metrics of success?\n",
    "\n",
    "2. Acquiring and cleaning data\n",
    " - What data do we have and what data do we need?\n",
    " - How will we collect more data?\n",
    " - How do we organize the data for analysis? \n",
    " \n",
    "3. Conducting exploratory data analysis\n",
    " - Do we already have relevant data?\n",
    " - What are the biases, anomalies, or other issues with the data?\n",
    " - How do we transform the data to enable effective analysis? \n",
    " \n",
    "4. Using prediction and inference to draw conclusions\n",
    " - What does the data say about the world?\n",
    " - Does it answer our questions or accurately solve the problem?\n",
    " - How robust are our conclusions? "
   ]
  },
  {
   "cell_type": "markdown",
   "metadata": {},
   "source": [
    "> \"I'm often wrong, but never in doubt...\" -- Ivy Baker Priest \n",
    "\n",
    "<div class=\"alert alert-info\">\n",
    "If there's one thing you take away from this course, it's that I hope to instill a sense skepticism, if not dread, that the modeling you've done is somehow wrong. You'll need to be your own worst critic.\n",
    "</div> \n",
    "\n",
    "<img src=\"imgs/bias_var.png\">"
   ]
  },
  {
   "cell_type": "markdown",
   "metadata": {},
   "source": [
    "<img src=\"https://static1.squarespace.com/static/5150aec6e4b0e340ec52710a/t/51525c33e4b0b3e0d10f77ab/1364352052403/Data_Science_VD.png?format=250w\">\n",
    "\n",
    "http://drewconway.com/zia/2013/3/26/the-data-science-venn-diagram\n",
    "\n",
    "Encourages to do machine learning as a team effort rather than an individual work. You don't have to be (and clearly aren't) an expert in everything, so getting a good team of experts with special knowledge is encouraged\n",
    "\n",
    "<img src=\"http://image.slidesharecdn.com/untitled-140119092945-phpapp01/95/from-the-lab-to-the-factory-building-a-production-machine-learning-infrastructure-26-638.jpg?cb=1390123927\">"
   ]
  },
  {
   "cell_type": "markdown",
   "metadata": {},
   "source": [
    "<img src=\"imgs/skeptic.png\">"
   ]
  },
  {
   "cell_type": "markdown",
   "metadata": {},
   "source": [
    "\n",
    "<div class=\"alert alert-info\">\n",
    "Data science is an iterative, non-linear activity.  You need the right group of people asking the right questions and working with the right data to answer those questions. To the extent those questions need to be repeatatedly asked and answered at scale (securely, autonomously, robustly, ...) you also need a larger group of people (including engineers, designers, ...) to implement data science **applications**.\n",
    "</div>\n",
    " "
   ]
  },
  {
   "cell_type": "markdown",
   "metadata": {},
   "source": [
    "## What is Machine Learning?\n",
    "\n",
    "> Field of study that give computers the ability to learn without being explicitly programmed.\n",
    "> -Arthur Samuel, 1959\n",
    "\n",
    "<b>Short  Answer</b>:  The offspring of Statistics and Computer Science\n",
    "\n",
    "<b>Better Answer</b>:  A set of models which aim to learn something about a data set to apply that knowledge to new data\n",
    "\n",
    "<u>Utility</u>\n",
    "\n",
    " - Using labels from training data to classify new objects (e.g., images, digits, webpages)\n",
    " - Learning the relationship between explanatory features and response variable to predict for new data (e.g., stock market)\n",
    " - Discovering natural clustering structure in data\n",
    " - Detecting low-dimensional structure in high-dimensional data\n",
    " - Finding outliers in large data sets\n",
    " - Game playing/Robotics\n",
    " \n",
    " >   *Essentially, all models are wrong, but some are useful.*\n",
    " \n",
    " >     -- George Box, Statistician (1919-2013)\n"
   ]
  },
  {
   "cell_type": "markdown",
   "metadata": {},
   "source": [
    "## Navigating the Terminology \n",
    "\n",
    "<img src=\"imgs/term.png\">\n",
    "\n",
    "No such thing as \"cognitive computing\", just a marketing IBM thing."
   ]
  },
  {
   "cell_type": "markdown",
   "metadata": {},
   "source": [
    "## Different Types of Learning\n",
    "\n",
    "<img src=\"imgs/three.png\">\n",
    "From: [S. Raschka (2015)](https://www.slideshare.net/SebastianRaschka/nextgen-talk-022015/8-Learning_Labeled_data_Direct_feedback)"
   ]
  },
  {
   "cell_type": "markdown",
   "metadata": {},
   "source": [
    "## Supervised vs. Unsupervised Learning \n",
    "\n",
    "<img src=\"imgs/learn_types.png\">"
   ]
  }
 ],
 "metadata": {
  "kernelspec": {
   "display_name": "Python 3",
   "language": "python",
   "name": "python3"
  },
  "language_info": {
   "codemirror_mode": {
    "name": "ipython",
    "version": 3
   },
   "file_extension": ".py",
   "mimetype": "text/x-python",
   "name": "python",
   "nbconvert_exporter": "python",
   "pygments_lexer": "ipython3",
   "version": "3.6.7"
  }
 },
 "nbformat": 4,
 "nbformat_minor": 2
}
