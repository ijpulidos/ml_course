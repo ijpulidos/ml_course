{
 "cells": [
  {
   "cell_type": "markdown",
   "metadata": {},
   "source": [
    "## Using tensorboard inside of Jupyter\n",
    "\n",
    "see https://www.tensorflow.org/tensorboard/r2/tensorboard_in_notebooks"
   ]
  },
  {
   "cell_type": "code",
   "execution_count": 1,
   "metadata": {},
   "outputs": [
    {
     "name": "stdout",
     "output_type": "stream",
     "text": [
      "Requirement already satisfied: tf-nightly-2.0-preview in /home/mefisto/anaconda3/envs/ml_course/lib/python3.6/site-packages (2.0.0.dev20190604)\n",
      "Requirement already satisfied: numpy<2.0,>=1.14.5 in /home/mefisto/anaconda3/envs/ml_course/lib/python3.6/site-packages (from tf-nightly-2.0-preview) (1.16.4)\n",
      "Requirement already satisfied: tb-nightly<1.15.0a0,>=1.14.0a0 in /home/mefisto/anaconda3/envs/ml_course/lib/python3.6/site-packages (from tf-nightly-2.0-preview) (1.14.0a20190604)\n",
      "Requirement already satisfied: wrapt>=1.11.1 in /home/mefisto/anaconda3/envs/ml_course/lib/python3.6/site-packages (from tf-nightly-2.0-preview) (1.11.1)\n",
      "Requirement already satisfied: absl-py>=0.7.0 in /home/mefisto/anaconda3/envs/ml_course/lib/python3.6/site-packages (from tf-nightly-2.0-preview) (0.7.1)\n",
      "Requirement already satisfied: wheel>=0.26 in /home/mefisto/anaconda3/envs/ml_course/lib/python3.6/site-packages (from tf-nightly-2.0-preview) (0.33.4)\n",
      "Requirement already satisfied: keras-applications>=1.0.6 in /home/mefisto/anaconda3/envs/ml_course/lib/python3.6/site-packages (from tf-nightly-2.0-preview) (1.0.7)\n",
      "Requirement already satisfied: grpcio>=1.8.6 in /home/mefisto/anaconda3/envs/ml_course/lib/python3.6/site-packages (from tf-nightly-2.0-preview) (1.16.0)\n",
      "Requirement already satisfied: gast>=0.2.0 in /home/mefisto/anaconda3/envs/ml_course/lib/python3.6/site-packages (from tf-nightly-2.0-preview) (0.2.2)\n",
      "Requirement already satisfied: keras-preprocessing>=1.0.5 in /home/mefisto/anaconda3/envs/ml_course/lib/python3.6/site-packages (from tf-nightly-2.0-preview) (1.0.9)\n",
      "Requirement already satisfied: six>=1.10.0 in /home/mefisto/anaconda3/envs/ml_course/lib/python3.6/site-packages (from tf-nightly-2.0-preview) (1.12.0)\n",
      "Requirement already satisfied: termcolor>=1.1.0 in /home/mefisto/anaconda3/envs/ml_course/lib/python3.6/site-packages (from tf-nightly-2.0-preview) (1.1.0)\n",
      "Requirement already satisfied: tensorflow-estimator-2.0-preview in /home/mefisto/anaconda3/envs/ml_course/lib/python3.6/site-packages (from tf-nightly-2.0-preview) (1.14.0.dev2019060400)\n",
      "Requirement already satisfied: protobuf>=3.6.1 in /home/mefisto/anaconda3/envs/ml_course/lib/python3.6/site-packages (from tf-nightly-2.0-preview) (3.8.0)\n",
      "Requirement already satisfied: astor>=0.6.0 in /home/mefisto/anaconda3/envs/ml_course/lib/python3.6/site-packages (from tf-nightly-2.0-preview) (0.7.1)\n",
      "Requirement already satisfied: google-pasta>=0.1.6 in /home/mefisto/anaconda3/envs/ml_course/lib/python3.6/site-packages (from tf-nightly-2.0-preview) (0.1.7)\n",
      "Requirement already satisfied: werkzeug>=0.11.15 in /home/mefisto/anaconda3/envs/ml_course/lib/python3.6/site-packages (from tb-nightly<1.15.0a0,>=1.14.0a0->tf-nightly-2.0-preview) (0.15.4)\n",
      "Requirement already satisfied: markdown>=2.6.8 in /home/mefisto/anaconda3/envs/ml_course/lib/python3.6/site-packages (from tb-nightly<1.15.0a0,>=1.14.0a0->tf-nightly-2.0-preview) (2.6.11)\n",
      "Requirement already satisfied: setuptools>=41.0.0 in /home/mefisto/anaconda3/envs/ml_course/lib/python3.6/site-packages (from tb-nightly<1.15.0a0,>=1.14.0a0->tf-nightly-2.0-preview) (41.0.1)\n",
      "Requirement already satisfied: h5py in /home/mefisto/anaconda3/envs/ml_course/lib/python3.6/site-packages (from keras-applications>=1.0.6->tf-nightly-2.0-preview) (2.9.0)\n"
     ]
    }
   ],
   "source": [
    "!pip install tf-nightly-2.0-preview"
   ]
  },
  {
   "cell_type": "code",
   "execution_count": 2,
   "metadata": {},
   "outputs": [],
   "source": [
    "# Load the TensorBoard notebook extension ... you may need to restart your kernel\n",
    "%load_ext tensorboard"
   ]
  },
  {
   "cell_type": "code",
   "execution_count": 3,
   "metadata": {},
   "outputs": [],
   "source": [
    "import tensorflow as tf\n",
    "import datetime, os"
   ]
  },
  {
   "cell_type": "code",
   "execution_count": 4,
   "metadata": {},
   "outputs": [
    {
     "data": {
      "text/html": [
       "\n",
       "        <iframe\n",
       "            width=\"100%\"\n",
       "            height=\"800\"\n",
       "            src=\"http://localhost:6006\"\n",
       "            frameborder=\"0\"\n",
       "            allowfullscreen\n",
       "        ></iframe>\n",
       "        "
      ],
      "text/plain": [
       "<IPython.lib.display.IFrame at 0x7f289c3eeb70>"
      ]
     },
     "metadata": {},
     "output_type": "display_data"
    }
   ],
   "source": [
    "%tensorboard --logdir nn_results"
   ]
  },
  {
   "cell_type": "code",
   "execution_count": null,
   "metadata": {},
   "outputs": [],
   "source": []
  }
 ],
 "metadata": {
  "kernelspec": {
   "display_name": "Python 3",
   "language": "python",
   "name": "python3"
  },
  "language_info": {
   "codemirror_mode": {
    "name": "ipython",
    "version": 3
   },
   "file_extension": ".py",
   "mimetype": "text/x-python",
   "name": "python",
   "nbconvert_exporter": "python",
   "pygments_lexer": "ipython3",
   "version": "3.6.7"
  }
 },
 "nbformat": 4,
 "nbformat_minor": 2
}
